{
 "cells": [
  {
   "cell_type": "code",
   "execution_count": 1,
   "id": "cf5b09fe-bdc3-4cae-9bd3-a31a7b92f39f",
   "metadata": {
    "execution": {
     "iopub.execute_input": "2023-03-13T19:46:13.608453Z",
     "iopub.status.busy": "2023-03-13T19:46:13.608183Z",
     "iopub.status.idle": "2023-03-13T19:46:13.956951Z",
     "shell.execute_reply": "2023-03-13T19:46:13.956523Z",
     "shell.execute_reply.started": "2023-03-13T19:46:13.608426Z"
    },
    "tags": []
   },
   "outputs": [],
   "source": [
    "import pandas as pd\n",
    "import networkx as nx\n",
    "import json"
   ]
  },
  {
   "cell_type": "code",
   "execution_count": 2,
   "id": "3ef19ed5-f4fd-458f-9446-c3cc90169858",
   "metadata": {
    "execution": {
     "iopub.execute_input": "2023-03-13T19:46:14.497462Z",
     "iopub.status.busy": "2023-03-13T19:46:14.497213Z",
     "iopub.status.idle": "2023-03-13T19:46:14.930488Z",
     "shell.execute_reply": "2023-03-13T19:46:14.930074Z",
     "shell.execute_reply.started": "2023-03-13T19:46:14.497449Z"
    },
    "tags": []
   },
   "outputs": [
    {
     "name": "stdout",
     "output_type": "stream",
     "text": [
      "\n",
      "O LULA TA ELEITO dataset size: 13561\n",
      "#BolosonaroReeleito dataset size: 37569\n",
      "\n"
     ]
    }
   ],
   "source": [
    "data_path = 'data/tweets/'\n",
    "\n",
    "lula_df = pd.read_csv(data_path+'2022-11-22-O LULA TÁ ELEITO.csv', index_col=0)\n",
    "bols_df = pd.read_csv(data_path+'2022-11-22-#BolsonaroReeleito.csv', index_col=0)\n",
    "\n",
    "print(f'''\n",
    "O LULA TA ELEITO dataset size: {lula_df.shape[0]}\n",
    "#BolosonaroReeleito dataset size: {bols_df.shape[0]}\n",
    "''')"
   ]
  },
  {
   "cell_type": "markdown",
   "id": "701b2d0e-7212-4271-9033-7fb5c88fe17a",
   "metadata": {},
   "source": [
    "#### Mergind Datasets"
   ]
  },
  {
   "cell_type": "code",
   "execution_count": 3,
   "id": "42a20f18-2f74-4747-89a7-0ec690e97661",
   "metadata": {
    "execution": {
     "iopub.execute_input": "2023-03-13T19:46:17.096967Z",
     "iopub.status.busy": "2023-03-13T19:46:17.096794Z",
     "iopub.status.idle": "2023-03-13T19:46:17.200272Z",
     "shell.execute_reply": "2023-03-13T19:46:17.199770Z",
     "shell.execute_reply.started": "2023-03-13T19:46:17.096954Z"
    },
    "tags": []
   },
   "outputs": [
    {
     "data": {
      "text/plain": [
       "(50843, 14)"
      ]
     },
     "execution_count": 3,
     "metadata": {},
     "output_type": "execute_result"
    }
   ],
   "source": [
    "merged_df = pd.concat([lula_df, bols_df])\n",
    "merged_df.drop_duplicates(inplace=True)\n",
    "merged_df.shape"
   ]
  },
  {
   "cell_type": "code",
   "execution_count": 4,
   "id": "8f195621-672f-450c-9192-2f2e1c27f5d2",
   "metadata": {
    "execution": {
     "iopub.execute_input": "2023-03-13T19:46:18.200800Z",
     "iopub.status.busy": "2023-03-13T19:46:18.200613Z",
     "iopub.status.idle": "2023-03-13T19:46:18.211173Z",
     "shell.execute_reply": "2023-03-13T19:46:18.210515Z",
     "shell.execute_reply.started": "2023-03-13T19:46:18.200786Z"
    },
    "tags": []
   },
   "outputs": [
    {
     "data": {
      "text/html": [
       "<div>\n",
       "<style scoped>\n",
       "    .dataframe tbody tr th:only-of-type {\n",
       "        vertical-align: middle;\n",
       "    }\n",
       "\n",
       "    .dataframe tbody tr th {\n",
       "        vertical-align: top;\n",
       "    }\n",
       "\n",
       "    .dataframe thead th {\n",
       "        text-align: right;\n",
       "    }\n",
       "</style>\n",
       "<table border=\"1\" class=\"dataframe\">\n",
       "  <thead>\n",
       "    <tr style=\"text-align: right;\">\n",
       "      <th></th>\n",
       "      <th>created_at</th>\n",
       "      <th>tweet_id</th>\n",
       "      <th>tweet_content</th>\n",
       "      <th>user</th>\n",
       "      <th>user_info</th>\n",
       "      <th>has_mention</th>\n",
       "      <th>mentions</th>\n",
       "      <th>is_reply</th>\n",
       "      <th>reply_to</th>\n",
       "      <th>is_quote</th>\n",
       "      <th>quoted_from</th>\n",
       "      <th>is_retweet</th>\n",
       "      <th>retweeted_from</th>\n",
       "      <th>hashtags</th>\n",
       "    </tr>\n",
       "  </thead>\n",
       "  <tbody>\n",
       "    <tr>\n",
       "      <th>0</th>\n",
       "      <td>2022-11-23 02:58:53</td>\n",
       "      <td>1595250504073973760</td>\n",
       "      <td>O minions já pediram mais 72 horas? \\nKkk\\nO L...</td>\n",
       "      <td>kaneda202210</td>\n",
       "      <td>{'id': 1581370477641179138, 'name': 'Kaneda', ...</td>\n",
       "      <td>False</td>\n",
       "      <td>NaN</td>\n",
       "      <td>False</td>\n",
       "      <td>NaN</td>\n",
       "      <td>False</td>\n",
       "      <td>NaN</td>\n",
       "      <td>True</td>\n",
       "      <td>{'user': '_Janoninho', 'user_id': 156389790744...</td>\n",
       "      <td>NaN</td>\n",
       "    </tr>\n",
       "    <tr>\n",
       "      <th>1</th>\n",
       "      <td>2022-11-23 02:58:48</td>\n",
       "      <td>1595250484465618946</td>\n",
       "      <td>🚨Me sigam, vamos nos juntar, fora Bolsonaro!\\n...</td>\n",
       "      <td>Alana47736058</td>\n",
       "      <td>{'id': 1236466004638740481, 'name': 'Nhana', '...</td>\n",
       "      <td>False</td>\n",
       "      <td>NaN</td>\n",
       "      <td>False</td>\n",
       "      <td>NaN</td>\n",
       "      <td>False</td>\n",
       "      <td>NaN</td>\n",
       "      <td>True</td>\n",
       "      <td>{'user': 'marcosaraujjoo', 'user_id': 27493482...</td>\n",
       "      <td>['#Bolsonaroreeleito']</td>\n",
       "    </tr>\n",
       "    <tr>\n",
       "      <th>2</th>\n",
       "      <td>2022-11-23 02:58:34</td>\n",
       "      <td>1595250425078456320</td>\n",
       "      <td>O LULA TÁ ELEITO\\n\\naquieta o cu aí, bolsomini...</td>\n",
       "      <td>qui_nunes</td>\n",
       "      <td>{'id': 1297308695404175365, 'name': 'bartolome...</td>\n",
       "      <td>False</td>\n",
       "      <td>NaN</td>\n",
       "      <td>False</td>\n",
       "      <td>NaN</td>\n",
       "      <td>False</td>\n",
       "      <td>NaN</td>\n",
       "      <td>False</td>\n",
       "      <td>NaN</td>\n",
       "      <td>NaN</td>\n",
       "    </tr>\n",
       "    <tr>\n",
       "      <th>3</th>\n",
       "      <td>2022-11-23 02:58:33</td>\n",
       "      <td>1595250420594933761</td>\n",
       "      <td>Bora ganhar também o 4º turno dessas eleições....</td>\n",
       "      <td>Raquel35376102</td>\n",
       "      <td>{'id': 1318301646414295041, 'name': 'Raquel', ...</td>\n",
       "      <td>False</td>\n",
       "      <td>NaN</td>\n",
       "      <td>False</td>\n",
       "      <td>NaN</td>\n",
       "      <td>False</td>\n",
       "      <td>NaN</td>\n",
       "      <td>True</td>\n",
       "      <td>{'user': '_Janoninho', 'user_id': 156389790744...</td>\n",
       "      <td>NaN</td>\n",
       "    </tr>\n",
       "    <tr>\n",
       "      <th>4</th>\n",
       "      <td>2022-11-23 02:58:16</td>\n",
       "      <td>1595250350067441665</td>\n",
       "      <td>@DENISEF93287285 Podem chorar mas O LULA TÁ EL...</td>\n",
       "      <td>kaneda202210</td>\n",
       "      <td>{'id': 1581370477641179138, 'name': 'Kaneda', ...</td>\n",
       "      <td>True</td>\n",
       "      <td>[{'id': '1483982093101244422', 'username': 'DE...</td>\n",
       "      <td>False</td>\n",
       "      <td>NaN</td>\n",
       "      <td>False</td>\n",
       "      <td>NaN</td>\n",
       "      <td>True</td>\n",
       "      <td>{'user': 'Elipsico', 'user_id': 60989020, 'twe...</td>\n",
       "      <td>NaN</td>\n",
       "    </tr>\n",
       "  </tbody>\n",
       "</table>\n",
       "</div>"
      ],
      "text/plain": [
       "            created_at             tweet_id  \\\n",
       "0  2022-11-23 02:58:53  1595250504073973760   \n",
       "1  2022-11-23 02:58:48  1595250484465618946   \n",
       "2  2022-11-23 02:58:34  1595250425078456320   \n",
       "3  2022-11-23 02:58:33  1595250420594933761   \n",
       "4  2022-11-23 02:58:16  1595250350067441665   \n",
       "\n",
       "                                       tweet_content            user  \\\n",
       "0  O minions já pediram mais 72 horas? \\nKkk\\nO L...    kaneda202210   \n",
       "1  🚨Me sigam, vamos nos juntar, fora Bolsonaro!\\n...   Alana47736058   \n",
       "2  O LULA TÁ ELEITO\\n\\naquieta o cu aí, bolsomini...       qui_nunes   \n",
       "3  Bora ganhar também o 4º turno dessas eleições....  Raquel35376102   \n",
       "4  @DENISEF93287285 Podem chorar mas O LULA TÁ EL...    kaneda202210   \n",
       "\n",
       "                                           user_info  has_mention  \\\n",
       "0  {'id': 1581370477641179138, 'name': 'Kaneda', ...        False   \n",
       "1  {'id': 1236466004638740481, 'name': 'Nhana', '...        False   \n",
       "2  {'id': 1297308695404175365, 'name': 'bartolome...        False   \n",
       "3  {'id': 1318301646414295041, 'name': 'Raquel', ...        False   \n",
       "4  {'id': 1581370477641179138, 'name': 'Kaneda', ...         True   \n",
       "\n",
       "                                            mentions  is_reply reply_to  \\\n",
       "0                                                NaN     False      NaN   \n",
       "1                                                NaN     False      NaN   \n",
       "2                                                NaN     False      NaN   \n",
       "3                                                NaN     False      NaN   \n",
       "4  [{'id': '1483982093101244422', 'username': 'DE...     False      NaN   \n",
       "\n",
       "   is_quote quoted_from  is_retweet  \\\n",
       "0     False         NaN        True   \n",
       "1     False         NaN        True   \n",
       "2     False         NaN       False   \n",
       "3     False         NaN        True   \n",
       "4     False         NaN        True   \n",
       "\n",
       "                                      retweeted_from                hashtags  \n",
       "0  {'user': '_Janoninho', 'user_id': 156389790744...                     NaN  \n",
       "1  {'user': 'marcosaraujjoo', 'user_id': 27493482...  ['#Bolsonaroreeleito']  \n",
       "2                                                NaN                     NaN  \n",
       "3  {'user': '_Janoninho', 'user_id': 156389790744...                     NaN  \n",
       "4  {'user': 'Elipsico', 'user_id': 60989020, 'twe...                     NaN  "
      ]
     },
     "execution_count": 4,
     "metadata": {},
     "output_type": "execute_result"
    }
   ],
   "source": [
    "merged_df.head(5)"
   ]
  },
  {
   "cell_type": "markdown",
   "id": "4fe92c63-9f0d-4386-ac34-a2a9f90b43e5",
   "metadata": {},
   "source": [
    "#### Saving data"
   ]
  },
  {
   "cell_type": "code",
   "execution_count": 5,
   "id": "6eb0b2e3-a2fe-460f-a138-794f6e28458e",
   "metadata": {
    "execution": {
     "iopub.execute_input": "2023-03-13T19:46:21.401044Z",
     "iopub.status.busy": "2023-03-13T19:46:21.400874Z",
     "iopub.status.idle": "2023-03-13T19:46:58.920026Z",
     "shell.execute_reply": "2023-03-13T19:46:58.919425Z",
     "shell.execute_reply.started": "2023-03-13T19:46:21.401032Z"
    },
    "tags": []
   },
   "outputs": [
    {
     "name": "stdout",
     "output_type": "stream",
     "text": [
      "Number of users: 20447\n"
     ]
    }
   ],
   "source": [
    "users = list(set(merged_df['user'].tolist()))\n",
    "tweets_content = merged_df['tweet_content'].tolist()\n",
    "tweet_user_mapping = dict()\n",
    "\n",
    "for user in users:\n",
    "    tweet_user_mapping[user] = merged_df.query(f'user == \"{user}\"')['tweet_content'].tolist()\n",
    "\n",
    "print(f'Number of users: {len(users)}')"
   ]
  },
  {
   "cell_type": "code",
   "execution_count": 6,
   "id": "50d3eb02-16ca-4c84-9048-94cb93d53f3c",
   "metadata": {
    "execution": {
     "iopub.execute_input": "2023-03-13T19:46:58.920984Z",
     "iopub.status.busy": "2023-03-13T19:46:58.920832Z",
     "iopub.status.idle": "2023-03-13T19:46:58.924535Z",
     "shell.execute_reply": "2023-03-13T19:46:58.923864Z",
     "shell.execute_reply.started": "2023-03-13T19:46:58.920971Z"
    }
   },
   "outputs": [],
   "source": [
    "data = dict()\n",
    "data['users'] = users\n",
    "data['tweets'] = tweets_content\n",
    "data['tweet_user_mapping'] = tweet_user_mapping"
   ]
  },
  {
   "cell_type": "code",
   "execution_count": 7,
   "id": "ae2fedc8-b112-4f72-90a4-242bff15f261",
   "metadata": {
    "execution": {
     "iopub.execute_input": "2023-03-13T19:46:58.926154Z",
     "iopub.status.busy": "2023-03-13T19:46:58.925691Z",
     "iopub.status.idle": "2023-03-13T19:46:59.088971Z",
     "shell.execute_reply": "2023-03-13T19:46:59.088126Z",
     "shell.execute_reply.started": "2023-03-13T19:46:58.926131Z"
    },
    "tags": []
   },
   "outputs": [],
   "source": [
    "with open('data/tweets/data.json', 'w') as f:\n",
    "    json.dump(data, f)"
   ]
  },
  {
   "cell_type": "markdown",
   "id": "24174a7f-bd2f-421f-bb10-154b5280a7a3",
   "metadata": {},
   "source": [
    "#### Creating retweet network"
   ]
  },
  {
   "cell_type": "code",
   "execution_count": 62,
   "id": "520a7af6-ce52-4e56-8abb-7afeffd325ee",
   "metadata": {
    "execution": {
     "iopub.execute_input": "2023-03-13T20:13:16.846726Z",
     "iopub.status.busy": "2023-03-13T20:13:16.846558Z",
     "iopub.status.idle": "2023-03-13T20:13:16.848893Z",
     "shell.execute_reply": "2023-03-13T20:13:16.848544Z",
     "shell.execute_reply.started": "2023-03-13T20:13:16.846713Z"
    },
    "tags": []
   },
   "outputs": [],
   "source": [
    "G = nx.DiGraph()"
   ]
  },
  {
   "cell_type": "code",
   "execution_count": 63,
   "id": "09591096-e039-41a1-9493-ba46469db366",
   "metadata": {
    "execution": {
     "iopub.execute_input": "2023-03-13T20:13:16.982845Z",
     "iopub.status.busy": "2023-03-13T20:13:16.982664Z",
     "iopub.status.idle": "2023-03-13T20:13:19.016809Z",
     "shell.execute_reply": "2023-03-13T20:13:19.016423Z",
     "shell.execute_reply.started": "2023-03-13T20:13:16.982833Z"
    },
    "tags": []
   },
   "outputs": [],
   "source": [
    "edges = list()\n",
    "\n",
    "rt_df = merged_df.query('is_retweet == True')\n",
    "\n",
    "for idx, row in rt_df.iterrows():\n",
    "    #edges.append((row['user'], eval(row['retweeted_from'])['user'], 'retweet'))\n",
    "    G.add_edge(row['user'], eval(row['retweeted_from'])['user'], interac_type='retweet')\n",
    "\n",
    "# for idx, row in merged_df.iterrows():\n",
    "#     if row['is_retweet'] and row['retweeted_from'] != 'NOT AVAILABLE':\n",
    "#         edges.append((row['user'], eval(row['retweeted_from'])['user'], 'retweet'))\n",
    "#     elif row['is_reply'] and row['reply_to'] != 'NOT AVAILABLE':\n",
    "#         edges.append((row['user'],eval(row['reply_to'])['user'],'reply'))\n",
    "#     elif row['is_quote'] and row['quoted_from'] != 'NOT AVAILABLE':\n",
    "#         edges.append((row['user'],eval(row['quoted_from'])['user'],'quote'))\n",
    "\n",
    "#print(f'Number of edges (with repetition): {len(edges)}')"
   ]
  },
  {
   "cell_type": "code",
   "execution_count": 57,
   "id": "ccda9b6e-399f-49fa-bfa7-258ad998be45",
   "metadata": {
    "execution": {
     "iopub.execute_input": "2023-03-13T20:12:45.323475Z",
     "iopub.status.busy": "2023-03-13T20:12:45.323279Z",
     "iopub.status.idle": "2023-03-13T20:12:45.325733Z",
     "shell.execute_reply": "2023-03-13T20:12:45.325401Z",
     "shell.execute_reply.started": "2023-03-13T20:12:45.323462Z"
    },
    "tags": []
   },
   "outputs": [],
   "source": [
    "#edges_df = pd.DataFrame(columns=['source', 'target', 'type'], data=edges)"
   ]
  },
  {
   "cell_type": "code",
   "execution_count": 58,
   "id": "86d69060-aa87-4546-adf6-9e3bedb91d78",
   "metadata": {
    "execution": {
     "iopub.execute_input": "2023-03-13T20:12:45.636599Z",
     "iopub.status.busy": "2023-03-13T20:12:45.636347Z",
     "iopub.status.idle": "2023-03-13T20:12:45.638471Z",
     "shell.execute_reply": "2023-03-13T20:12:45.638126Z",
     "shell.execute_reply.started": "2023-03-13T20:12:45.636578Z"
    },
    "tags": []
   },
   "outputs": [],
   "source": [
    "# edges_count = edges_df.value_counts()\n",
    "# edges_count"
   ]
  },
  {
   "cell_type": "code",
   "execution_count": 59,
   "id": "95c4b1a3-ee76-4870-9dc9-243159e70ef5",
   "metadata": {
    "execution": {
     "iopub.execute_input": "2023-03-13T20:12:46.259652Z",
     "iopub.status.busy": "2023-03-13T20:12:46.259475Z",
     "iopub.status.idle": "2023-03-13T20:12:46.261931Z",
     "shell.execute_reply": "2023-03-13T20:12:46.261582Z",
     "shell.execute_reply.started": "2023-03-13T20:12:46.259632Z"
    },
    "tags": []
   },
   "outputs": [],
   "source": [
    "# for x in range(len(edges_count.values)):\n",
    "#     edges_index = edges_count.index\n",
    "#     edges_weights = edges_count.values\n",
    "#     G.add_edge(edges_index[x][0], edges_index[x][1], interac_type=edges_index[x][2], weight=edges_weights[x])"
   ]
  },
  {
   "cell_type": "code",
   "execution_count": 64,
   "id": "bb856d30-63d7-44c4-88dc-fe600c3928ee",
   "metadata": {
    "execution": {
     "iopub.execute_input": "2023-03-13T20:13:21.224317Z",
     "iopub.status.busy": "2023-03-13T20:13:21.224026Z",
     "iopub.status.idle": "2023-03-13T20:13:21.252736Z",
     "shell.execute_reply": "2023-03-13T20:13:21.252185Z",
     "shell.execute_reply.started": "2023-03-13T20:13:21.224293Z"
    },
    "tags": []
   },
   "outputs": [
    {
     "data": {
      "text/plain": [
       "[('kaneda202210', '_Janoninho', {'interac_type': 'retweet'}),\n",
       " ('kaneda202210', 'Elipsico', {'interac_type': 'retweet'})]"
      ]
     },
     "execution_count": 64,
     "metadata": {},
     "output_type": "execute_result"
    }
   ],
   "source": [
    "list(G.edges(data=True))[:2]"
   ]
  },
  {
   "cell_type": "code",
   "execution_count": 66,
   "id": "b33777d6-682b-49ac-ab00-0da02b3792ef",
   "metadata": {
    "execution": {
     "iopub.execute_input": "2023-03-13T20:13:28.078048Z",
     "iopub.status.busy": "2023-03-13T20:13:28.077883Z",
     "iopub.status.idle": "2023-03-13T20:13:28.085785Z",
     "shell.execute_reply": "2023-03-13T20:13:28.085115Z",
     "shell.execute_reply.started": "2023-03-13T20:13:28.078035Z"
    },
    "tags": []
   },
   "outputs": [
    {
     "name": "stderr",
     "output_type": "stream",
     "text": [
      "/tmp/ipykernel_37346/1064119803.py:1: DeprecationWarning: info is deprecated and will be removed in version 3.0.\n",
      "\n",
      "  nx.info(G)\n"
     ]
    },
    {
     "data": {
      "text/plain": [
       "'DiGraph with 18321 nodes and 37350 edges'"
      ]
     },
     "execution_count": 66,
     "metadata": {},
     "output_type": "execute_result"
    }
   ],
   "source": [
    "nx.info(G)"
   ]
  },
  {
   "cell_type": "code",
   "execution_count": 67,
   "id": "10d61ba6-9cd5-4326-b781-241de85766af",
   "metadata": {
    "execution": {
     "iopub.execute_input": "2023-03-13T20:13:32.476827Z",
     "iopub.status.busy": "2023-03-13T20:13:32.476659Z",
     "iopub.status.idle": "2023-03-13T20:13:33.118534Z",
     "shell.execute_reply": "2023-03-13T20:13:33.118030Z",
     "shell.execute_reply.started": "2023-03-13T20:13:32.476815Z"
    },
    "tags": []
   },
   "outputs": [],
   "source": [
    "# nx.write_gexf(G, 'data/networks/social_graph.gexf')\n",
    "nx.write_gexf(G, 'data/networks/rt_social_graph.gexf')"
   ]
  },
  {
   "cell_type": "code",
   "execution_count": null,
   "id": "3b0398ad-4186-4009-a5a3-a2612aecf197",
   "metadata": {},
   "outputs": [],
   "source": []
  }
 ],
 "metadata": {
  "kernelspec": {
   "display_name": "Python 3 (ipykernel)",
   "language": "python",
   "name": "python3"
  },
  "language_info": {
   "codemirror_mode": {
    "name": "ipython",
    "version": 3
   },
   "file_extension": ".py",
   "mimetype": "text/x-python",
   "name": "python",
   "nbconvert_exporter": "python",
   "pygments_lexer": "ipython3",
   "version": "3.10.9"
  }
 },
 "nbformat": 4,
 "nbformat_minor": 5
}
