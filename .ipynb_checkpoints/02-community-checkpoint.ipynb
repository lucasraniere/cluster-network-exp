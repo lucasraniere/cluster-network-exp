{
 "cells": [
  {
   "cell_type": "code",
   "execution_count": 1,
   "id": "61b84946-b9dc-491b-a438-3dccb08a79d6",
   "metadata": {},
   "outputs": [],
   "source": [
    "import pandas as pd\n",
    "import json"
   ]
  },
  {
   "cell_type": "code",
   "execution_count": 2,
   "id": "7f69c4fe-3fb0-48e3-97ad-7af646e57b55",
   "metadata": {},
   "outputs": [
    {
     "data": {
      "text/plain": [
       "(1548, 6)"
      ]
     },
     "execution_count": 2,
     "metadata": {},
     "output_type": "execute_result"
    }
   ],
   "source": [
    "labeled_nodes = pd.read_csv('data/networks/communities_nodes.csv')\n",
    "labeled_nodes.shape"
   ]
  },
  {
   "cell_type": "code",
   "execution_count": 3,
   "id": "44248c9a-303d-4734-9fe5-616cc6e75312",
   "metadata": {
    "tags": []
   },
   "outputs": [
    {
     "data": {
      "text/html": [
       "<div>\n",
       "<style scoped>\n",
       "    .dataframe tbody tr th:only-of-type {\n",
       "        vertical-align: middle;\n",
       "    }\n",
       "\n",
       "    .dataframe tbody tr th {\n",
       "        vertical-align: top;\n",
       "    }\n",
       "\n",
       "    .dataframe thead th {\n",
       "        text-align: right;\n",
       "    }\n",
       "</style>\n",
       "<table border=\"1\" class=\"dataframe\">\n",
       "  <thead>\n",
       "    <tr style=\"text-align: right;\">\n",
       "      <th></th>\n",
       "      <th>Id</th>\n",
       "      <th>Label</th>\n",
       "      <th>indegree</th>\n",
       "      <th>outdegree</th>\n",
       "      <th>Degree</th>\n",
       "      <th>modularity_class</th>\n",
       "    </tr>\n",
       "  </thead>\n",
       "  <tbody>\n",
       "    <tr>\n",
       "      <th>1349</th>\n",
       "      <td>willians_caires</td>\n",
       "      <td>NaN</td>\n",
       "      <td>0</td>\n",
       "      <td>1</td>\n",
       "      <td>1</td>\n",
       "      <td>1</td>\n",
       "    </tr>\n",
       "    <tr>\n",
       "      <th>1073</th>\n",
       "      <td>EduardoJosAlve9</td>\n",
       "      <td>NaN</td>\n",
       "      <td>0</td>\n",
       "      <td>2</td>\n",
       "      <td>2</td>\n",
       "      <td>1</td>\n",
       "    </tr>\n",
       "    <tr>\n",
       "      <th>63</th>\n",
       "      <td>Neg_POETA</td>\n",
       "      <td>NaN</td>\n",
       "      <td>3</td>\n",
       "      <td>0</td>\n",
       "      <td>3</td>\n",
       "      <td>0</td>\n",
       "    </tr>\n",
       "    <tr>\n",
       "      <th>1276</th>\n",
       "      <td>murillomtzz</td>\n",
       "      <td>NaN</td>\n",
       "      <td>0</td>\n",
       "      <td>2</td>\n",
       "      <td>2</td>\n",
       "      <td>1</td>\n",
       "    </tr>\n",
       "    <tr>\n",
       "      <th>252</th>\n",
       "      <td>CValgueredo</td>\n",
       "      <td>NaN</td>\n",
       "      <td>0</td>\n",
       "      <td>4</td>\n",
       "      <td>4</td>\n",
       "      <td>0</td>\n",
       "    </tr>\n",
       "  </tbody>\n",
       "</table>\n",
       "</div>"
      ],
      "text/plain": [
       "                   Id  Label  indegree  outdegree  Degree  modularity_class\n",
       "1349  willians_caires    NaN         0          1       1                 1\n",
       "1073  EduardoJosAlve9    NaN         0          2       2                 1\n",
       "63          Neg_POETA    NaN         3          0       3                 0\n",
       "1276      murillomtzz    NaN         0          2       2                 1\n",
       "252       CValgueredo    NaN         0          4       4                 0"
      ]
     },
     "execution_count": 3,
     "metadata": {},
     "output_type": "execute_result"
    }
   ],
   "source": [
    "labeled_nodes.sample(5)"
   ]
  },
  {
   "cell_type": "code",
   "execution_count": 4,
   "id": "e81bf922-31f2-4765-b4d4-a6f726896f44",
   "metadata": {},
   "outputs": [],
   "source": [
    "selected_users = labeled_nodes['Id'].tolist()"
   ]
  },
  {
   "cell_type": "code",
   "execution_count": 5,
   "id": "49b6f369-3628-45d9-af8c-06c050e18466",
   "metadata": {},
   "outputs": [
    {
     "name": "stdout",
     "output_type": "stream",
     "text": [
      "\n",
      "O LULA TA ELEITO dataset size: 13561\n",
      "#BolosonaroReeleito dataset size: 37569\n",
      "\n"
     ]
    }
   ],
   "source": [
    "data_path = 'data/tweets/'\n",
    "\n",
    "lula_df = pd.read_csv(data_path+'2022-11-22-O LULA TÁ ELEITO.csv', index_col=0)\n",
    "bols_df = pd.read_csv(data_path+'2022-11-22-#BolsonaroReeleito.csv', index_col=0)\n",
    "\n",
    "print(f'''\n",
    "O LULA TA ELEITO dataset size: {lula_df.shape[0]}\n",
    "#BolosonaroReeleito dataset size: {bols_df.shape[0]}\n",
    "''')"
   ]
  },
  {
   "cell_type": "code",
   "execution_count": 6,
   "id": "257cff3f-bcdc-4114-8ae8-59c4102bd59a",
   "metadata": {},
   "outputs": [
    {
     "data": {
      "text/plain": [
       "(50843, 14)"
      ]
     },
     "execution_count": 6,
     "metadata": {},
     "output_type": "execute_result"
    }
   ],
   "source": [
    "merged_df = pd.concat([lula_df, bols_df])\n",
    "merged_df.drop_duplicates(inplace=True)\n",
    "merged_df.shape"
   ]
  },
  {
   "cell_type": "code",
   "execution_count": 7,
   "id": "e0dcf44d-000d-4a78-9021-35fd81c4eecd",
   "metadata": {},
   "outputs": [],
   "source": [
    "# selected_tweets = dict()\n",
    "\n",
    "# for idx, row in merged_df.iterrows():\n",
    "#     if row['user'] in selected_users:\n",
    "#         selected_tweets[row['user']] = merged_df[merged_df['user']==row['user']]['tweet_content'].tolist()"
   ]
  },
  {
   "cell_type": "code",
   "execution_count": 8,
   "id": "993bd301-a52c-4dbf-ae79-21adab8a06ea",
   "metadata": {},
   "outputs": [],
   "source": [
    "selected_tweets = dict()\n",
    "\n",
    "for user in selected_users:\n",
    "    selected_tweets[user] = merged_df[merged_df['user']==user]['tweet_content'].tolist()"
   ]
  },
  {
   "cell_type": "code",
   "execution_count": 9,
   "id": "6319f3cc-9abd-4da6-a180-65adb3f4fd1d",
   "metadata": {},
   "outputs": [
    {
     "data": {
      "text/plain": [
       "1548"
      ]
     },
     "execution_count": 9,
     "metadata": {},
     "output_type": "execute_result"
    }
   ],
   "source": [
    "len(selected_tweets.keys())"
   ]
  },
  {
   "cell_type": "code",
   "execution_count": 10,
   "id": "2b9e392b-f28d-49d8-bfa4-9d8b834a76ea",
   "metadata": {},
   "outputs": [],
   "source": [
    "user_comm_map = dict()\n",
    "\n",
    "for user in labeled_nodes[['Id','modularity_class']].values.tolist():\n",
    "    user_comm_map[user[0]] = user[1]"
   ]
  },
  {
   "cell_type": "code",
   "execution_count": 13,
   "id": "a5f0d3f7-cec1-4c93-ad37-4a4578c75c73",
   "metadata": {},
   "outputs": [],
   "source": [
    "final_data = {\n",
    "    'selected_users_tweets': selected_tweets,\n",
    "    'user_comm_mapping': user_comm_map\n",
    "}"
   ]
  },
  {
   "cell_type": "code",
   "execution_count": 18,
   "id": "e82bb5de-9e8d-4604-ba1b-8a289ec22b61",
   "metadata": {},
   "outputs": [],
   "source": [
    "with open('data/tweets/final_data.json', 'w') as f:\n",
    "    json.dump(final_data, f)"
   ]
  }
 ],
 "metadata": {
  "kernelspec": {
   "display_name": "Python 3 (ipykernel)",
   "language": "python",
   "name": "python3"
  },
  "language_info": {
   "codemirror_mode": {
    "name": "ipython",
    "version": 3
   },
   "file_extension": ".py",
   "mimetype": "text/x-python",
   "name": "python",
   "nbconvert_exporter": "python",
   "pygments_lexer": "ipython3",
   "version": "3.10.9"
  }
 },
 "nbformat": 4,
 "nbformat_minor": 5
}
